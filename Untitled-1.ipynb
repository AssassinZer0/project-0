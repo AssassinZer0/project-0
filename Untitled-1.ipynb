{
 "cells": [
  {
   "cell_type": "code",
   "execution_count": 8,
   "metadata": {},
   "outputs": [],
   "source": [
    "import pygame\n",
    "import sys\n",
    "import os\n",
    "import pygame.freetype\n",
    "from random import randint\n",
    "\n",
    "\n",
    "#start game\n",
    "pygame.init()\n",
    "#create screen\n",
    "screen_height = 700\n",
    "screen_width = 1080\n",
    "screen = pygame.display.set_mode((screen_width,screen_height))"
   ]
  },
  {
   "cell_type": "code",
   "execution_count": 9,
   "metadata": {},
   "outputs": [],
   "source": [
    "#Title and Icon\n",
    "pygame.display.set_caption(\"Project-0\")\n",
    "icon = pygame.image.load('earth-1.png.png')\n",
    "pygame.display.set_icon(icon)"
   ]
  },
  {
   "cell_type": "code",
   "execution_count": 10,
   "metadata": {},
   "outputs": [],
   "source": [
    "#Character position and creation\n",
    "character = pygame.image.load('character.png')\n",
    "characterbig = pygame.transform.scale(character,(200,200))\n",
    "characterX = 450\n",
    "characterY = 300\n",
    "speed_X = 4\n",
    "speed_Y = 4\n",
    "def player(x,y):\n",
    "    screen.blit(characterbig,(x,y))\n",
    "\n",
    "#character animations (Unused)\n",
    "playerdown = pygame.image.load('characterdown.gif')\n",
    "playerdown_use = pygame.transform.scale(playerdown,(200,200))\n",
    "def down(x,y):\n",
    "    screen.blit(playerdown_use,(x,y))"
   ]
  },
  {
   "cell_type": "code",
   "execution_count": 11,
   "metadata": {},
   "outputs": [],
   "source": [
    "#Background and movement area\n",
    "background = pygame.image.load('background.png')\n",
    "background_true = pygame.transform.scale(background,(1080,700))\n",
    "area1 = pygame.image.load('area1.png')\n",
    "area1_big = pygame.transform.scale(area1,(1100,1000))"
   ]
  },
  {
   "cell_type": "code",
   "execution_count": 12,
   "metadata": {},
   "outputs": [],
   "source": [
    "#Item\n",
    "item = pygame.image.load('paper.png')\n",
    "paper = pygame.transform.scale(item,(80,100))\n",
    "paper_moved = False\n",
    "def paper_item():\n",
    "    if characterX > 450 and characterX < 500 and characterY > 30 and characterY < 120:\n",
    "        paper_moved = True\n",
    "        "
   ]
  },
  {
   "cell_type": "code",
   "execution_count": 13,
   "metadata": {},
   "outputs": [],
   "source": [
    "#Score\n",
    "score_value = 0\n",
    "font = pygame.font.Font('freesansbold.ttf',32)\n",
    "textX = 20\n",
    "textY = 20\n",
    "def show_score(x,y):\n",
    "    score = font.render(\"Pages collected:\" + str(score_value), True, (255,225,225))\n",
    "    screen.blit(score_value,(x,y))\n"
   ]
  },
  {
   "cell_type": "code",
   "execution_count": 14,
   "metadata": {},
   "outputs": [
    {
     "ename": "SystemExit",
     "evalue": "",
     "output_type": "error",
     "traceback": [
      "An exception has occurred, use %tb to see the full traceback.\n",
      "\u001b[0;31mSystemExit\u001b[0m\n"
     ]
    }
   ],
   "source": [
    "#Game loop and closing\n",
    "from sys import exit\n",
    "moving = True\n",
    "running = True\n",
    "\n",
    "paperX = 500\n",
    "paperY = 100\n",
    "while running:\n",
    "    for event in pygame.event.get():\n",
    "        if event.type == pygame.QUIT:\n",
    "             running = False\n",
    "             pygame.quit()\n",
    "             exit()\n",
    "\n",
    "        # Moving character\n",
    "    if event.type == pygame.KEYDOWN:\n",
    "        if event.key == pygame.K_LEFT:\n",
    "            new_pos = characterX - speed_X\n",
    "            if not new_pos <= 30:\n",
    "                characterX = new_pos\n",
    "        if event.key == pygame.K_RIGHT:\n",
    "            new_pos = characterX + speed_X\n",
    "            if not new_pos >= 850:\n",
    "                characterX = new_pos\n",
    "        if event.key == pygame.K_UP:\n",
    "            new_pos = characterY - speed_Y\n",
    "            if not new_pos <= 0:\n",
    "                characterY = new_pos\n",
    "        if event.key == pygame.K_DOWN:\n",
    "            new_pos = characterY + speed_Y\n",
    "            if not new_pos >= 500:\n",
    "                characterY = new_pos\n",
    "\n",
    "\n",
    "    screen.fill(0)\n",
    "    screen.blit(background_true,(0,0))\n",
    "    screen.blit(area1_big,(-10,-140))\n",
    "    player(characterX, characterY)\n",
    "\n",
    "    \n",
    "    if characterX > (paperX - 20) and characterX < (paperX + 20) and characterY > (paperY - 20) and characterY < (paperY + 20):\n",
    "        paperX = randint(100,500)\n",
    "        paperY = randint(100,500)\n",
    "        screen.blit(paper,(paperX,paperY))\n",
    "        paper_moved = True\n",
    "        \n",
    "    else:\n",
    "        screen.blit(paper,(paperX,paperY))\n",
    "    \n",
    "\n",
    "    pygame.display.update()\n",
    "    \n"
   ]
  }
 ],
 "metadata": {
  "interpreter": {
   "hash": "40d3a090f54c6569ab1632332b64b2c03c39dcf918b08424e98f38b5ae0af88f"
  },
  "kernelspec": {
   "display_name": "Python 3.9.7 ('base')",
   "language": "python",
   "name": "python3"
  },
  "language_info": {
   "codemirror_mode": {
    "name": "ipython",
    "version": 3
   },
   "file_extension": ".py",
   "mimetype": "text/x-python",
   "name": "python",
   "nbconvert_exporter": "python",
   "pygments_lexer": "ipython3",
   "version": "3.9.7"
  },
  "orig_nbformat": 4
 },
 "nbformat": 4,
 "nbformat_minor": 2
}
